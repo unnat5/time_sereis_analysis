{
 "cells": [
  {
   "cell_type": "code",
   "execution_count": 3,
   "metadata": {},
   "outputs": [
    {
     "data": {
      "text/plain": [
       "'/Users/unnatsingh/Udacity_dp_nanodegree/neural_network/deep-learning'"
      ]
     },
     "execution_count": 3,
     "metadata": {},
     "output_type": "execute_result"
    }
   ],
   "source": [
    "import os\n",
    "os.getcwd()"
   ]
  },
  {
   "cell_type": "code",
   "execution_count": 4,
   "metadata": {
    "collapsed": true
   },
   "outputs": [],
   "source": [
    "import pandas as pd\n",
    "stock_data=pd.read_csv(\"stock.csv\")\n"
   ]
  },
  {
   "cell_type": "code",
   "execution_count": 11,
   "metadata": {},
   "outputs": [
    {
     "data": {
      "text/html": [
       "<div>\n",
       "<style>\n",
       "    .dataframe thead tr:only-child th {\n",
       "        text-align: right;\n",
       "    }\n",
       "\n",
       "    .dataframe thead th {\n",
       "        text-align: left;\n",
       "    }\n",
       "\n",
       "    .dataframe tbody tr th {\n",
       "        vertical-align: top;\n",
       "    }\n",
       "</style>\n",
       "<table border=\"1\" class=\"dataframe\">\n",
       "  <thead>\n",
       "    <tr style=\"text-align: right;\">\n",
       "      <th></th>\n",
       "      <th>Symbol</th>\n",
       "      <th>Series</th>\n",
       "      <th>Date</th>\n",
       "      <th>Prev Close</th>\n",
       "      <th>Open Price</th>\n",
       "      <th>High Price</th>\n",
       "      <th>Low Price</th>\n",
       "      <th>Last Price</th>\n",
       "      <th>Close Price</th>\n",
       "      <th>Average Price</th>\n",
       "      <th>Total Traded Quantity</th>\n",
       "      <th>Turnover</th>\n",
       "      <th>No. of Trades</th>\n",
       "      <th>Deliverable Qty</th>\n",
       "      <th>% Dly Qt to Traded Qty</th>\n",
       "    </tr>\n",
       "  </thead>\n",
       "  <tbody>\n",
       "    <tr>\n",
       "      <th>0</th>\n",
       "      <td>ITC</td>\n",
       "      <td>EQ</td>\n",
       "      <td>03-Apr-2017</td>\n",
       "      <td>280.30</td>\n",
       "      <td>282.8</td>\n",
       "      <td>283.60</td>\n",
       "      <td>278.65</td>\n",
       "      <td>282.40</td>\n",
       "      <td>281.55</td>\n",
       "      <td>281.00</td>\n",
       "      <td>7228785</td>\n",
       "      <td>2.031276e+09</td>\n",
       "      <td>49331</td>\n",
       "      <td>4858726</td>\n",
       "      <td>67.21</td>\n",
       "    </tr>\n",
       "    <tr>\n",
       "      <th>1</th>\n",
       "      <td>ITC</td>\n",
       "      <td>EQ</td>\n",
       "      <td>05-Apr-2017</td>\n",
       "      <td>281.55</td>\n",
       "      <td>283.2</td>\n",
       "      <td>283.50</td>\n",
       "      <td>277.70</td>\n",
       "      <td>278.20</td>\n",
       "      <td>278.95</td>\n",
       "      <td>279.11</td>\n",
       "      <td>10288783</td>\n",
       "      <td>2.871658e+09</td>\n",
       "      <td>105889</td>\n",
       "      <td>7720313</td>\n",
       "      <td>75.04</td>\n",
       "    </tr>\n",
       "    <tr>\n",
       "      <th>2</th>\n",
       "      <td>ITC</td>\n",
       "      <td>EQ</td>\n",
       "      <td>06-Apr-2017</td>\n",
       "      <td>278.95</td>\n",
       "      <td>278.2</td>\n",
       "      <td>279.15</td>\n",
       "      <td>273.20</td>\n",
       "      <td>274.00</td>\n",
       "      <td>274.10</td>\n",
       "      <td>274.82</td>\n",
       "      <td>15641571</td>\n",
       "      <td>4.298674e+09</td>\n",
       "      <td>101169</td>\n",
       "      <td>12668402</td>\n",
       "      <td>80.99</td>\n",
       "    </tr>\n",
       "    <tr>\n",
       "      <th>3</th>\n",
       "      <td>ITC</td>\n",
       "      <td>EQ</td>\n",
       "      <td>07-Apr-2017</td>\n",
       "      <td>274.10</td>\n",
       "      <td>273.0</td>\n",
       "      <td>274.15</td>\n",
       "      <td>270.90</td>\n",
       "      <td>272.85</td>\n",
       "      <td>272.65</td>\n",
       "      <td>272.85</td>\n",
       "      <td>9128592</td>\n",
       "      <td>2.490712e+09</td>\n",
       "      <td>105482</td>\n",
       "      <td>6909844</td>\n",
       "      <td>75.69</td>\n",
       "    </tr>\n",
       "    <tr>\n",
       "      <th>4</th>\n",
       "      <td>ITC</td>\n",
       "      <td>EQ</td>\n",
       "      <td>10-Apr-2017</td>\n",
       "      <td>272.65</td>\n",
       "      <td>275.0</td>\n",
       "      <td>275.00</td>\n",
       "      <td>272.10</td>\n",
       "      <td>273.00</td>\n",
       "      <td>273.55</td>\n",
       "      <td>273.35</td>\n",
       "      <td>5476450</td>\n",
       "      <td>1.496977e+09</td>\n",
       "      <td>66737</td>\n",
       "      <td>4089387</td>\n",
       "      <td>74.67</td>\n",
       "    </tr>\n",
       "  </tbody>\n",
       "</table>\n",
       "</div>"
      ],
      "text/plain": [
       "  Symbol Series         Date  Prev Close  Open Price  High Price  Low Price  \\\n",
       "0    ITC     EQ  03-Apr-2017      280.30       282.8      283.60     278.65   \n",
       "1    ITC     EQ  05-Apr-2017      281.55       283.2      283.50     277.70   \n",
       "2    ITC     EQ  06-Apr-2017      278.95       278.2      279.15     273.20   \n",
       "3    ITC     EQ  07-Apr-2017      274.10       273.0      274.15     270.90   \n",
       "4    ITC     EQ  10-Apr-2017      272.65       275.0      275.00     272.10   \n",
       "\n",
       "   Last Price  Close Price  Average Price  Total Traded Quantity  \\\n",
       "0      282.40       281.55         281.00                7228785   \n",
       "1      278.20       278.95         279.11               10288783   \n",
       "2      274.00       274.10         274.82               15641571   \n",
       "3      272.85       272.65         272.85                9128592   \n",
       "4      273.00       273.55         273.35                5476450   \n",
       "\n",
       "       Turnover  No. of Trades  Deliverable Qty  % Dly Qt to Traded Qty  \n",
       "0  2.031276e+09          49331          4858726                   67.21  \n",
       "1  2.871658e+09         105889          7720313                   75.04  \n",
       "2  4.298674e+09         101169         12668402                   80.99  \n",
       "3  2.490712e+09         105482          6909844                   75.69  \n",
       "4  1.496977e+09          66737          4089387                   74.67  "
      ]
     },
     "execution_count": 11,
     "metadata": {},
     "output_type": "execute_result"
    }
   ],
   "source": [
    "stock_data.head()"
   ]
  },
  {
   "cell_type": "code",
   "execution_count": 80,
   "metadata": {},
   "outputs": [],
   "source": [
    "import numpy as np\n",
    "data = np.array(stock_data[[\"Open Price\"]])"
   ]
  },
  {
   "cell_type": "code",
   "execution_count": 88,
   "metadata": {},
   "outputs": [
    {
     "data": {
      "text/plain": [
       "array([282.8 , 283.2 , 278.2 , 273.  , 275.  , 273.1 , 281.7 , 281.9 ,\n",
       "       276.55, 280.2 , 281.15, 279.7 , 282.  , 276.4 , 278.  , 283.3 ,\n",
       "       291.4 , 285.8 , 280.5 , 279.5 , 277.9 , 280.95, 277.55, 273.5 ,\n",
       "       272.2 , 275.5 , 277.3 , 275.9 , 278.5 , 284.1 , 278.  , 282.25,\n",
       "       292.45, 301.9 , 300.  , 300.  , 302.  , 304.  , 312.9 , 311.45,\n",
       "       312.  , 316.1 , 315.  , 317.5 , 311.3 , 313.  , 310.75, 307.  ,\n",
       "       305.05, 304.95, 302.95, 302.5 , 309.  , 312.  , 309.4 , 308.65,\n",
       "       310.  , 311.75, 311.6 , 309.1 , 310.25, 346.  , 342.8 , 337.25,\n",
       "       334.3 , 338.  , 341.  , 335.  , 328.4 , 332.  , 339.95, 335.  ,\n",
       "       292.65, 287.8 , 294.  , 291.5 , 290.  , 295.  , 292.  , 294.7 ,\n",
       "       294.3 , 289.5 , 285.3 , 289.8 , 285.  , 280.4 , 281.6 , 280.1 ,\n",
       "       274.  , 272.65, 271.  , 274.4 , 272.  , 281.85, 279.25, 282.35,\n",
       "       282.  , 283.5 , 282.  , 282.1 , 282.35, 281.15, 283.  , 282.2 ,\n",
       "       283.45, 282.65, 280.5 , 277.  , 271.15, 272.4 , 275.5 , 277.4 ,\n",
       "       272.3 , 272.  , 271.  , 268.  , 269.4 , 272.  , 269.5 , 268.5 ,\n",
       "       263.3 , 265.1 , 260.4 , 262.8 , 262.5 , 264.1 , 267.4 , 265.8 ,\n",
       "       268.  , 267.1 , 266.5 , 265.55, 266.25, 266.  , 268.  , 268.  ,\n",
       "       271.  , 270.  , 268.45, 268.4 , 270.8 , 270.6 , 269.  , 266.05,\n",
       "       267.  , 269.7 , 267.  , 266.25, 265.7 , 265.35, 266.4 , 260.55,\n",
       "       263.  , 258.5 , 257.  , 254.7 , 256.5 , 258.6 , 259.5 , 256.  ,\n",
       "       258.35, 258.5 , 260.  , 259.1 , 258.  , 257.9 , 256.95, 256.  ,\n",
       "       255.  , 253.25, 250.  , 253.75, 264.65, 264.5 , 259.6 , 260.9 ,\n",
       "       266.  , 265.5 , 263.4 , 264.7 , 265.9 , 263.5 , 263.25, 264.2 ,\n",
       "       263.4 , 262.5 , 263.25, 262.6 , 261.3 , 260.95, 261.9 , 264.  ,\n",
       "       265.5 , 273.45, 269.5 , 270.25, 268.  , 268.2 , 262.  , 268.  ,\n",
       "       276.  , 275.  , 274.  , 276.65, 281.  , 281.15, 275.  , 273.9 ,\n",
       "       272.  , 274.4 , 273.55, 269.95, 278.  , 275.7 , 271.  , 272.45,\n",
       "       270.  , 266.5 , 269.85, 266.  , 264.  , 264.  , 267.2 , 267.45,\n",
       "       268.55, 268.  , 265.  , 264.2 , 263.3 , 261.05, 256.5 , 260.3 ,\n",
       "       259.  , 264.  , 269.65, 268.05, 267.  , 266.4 , 260.55, 258.15,\n",
       "       260.05, 260.  , 256.  , 252.9 , 258.8 , 258.  ])"
      ]
     },
     "execution_count": 88,
     "metadata": {},
     "output_type": "execute_result"
    }
   ],
   "source": [
    "data\n",
    "target = data[1:]\n",
    "data = data[:,None]\n"
   ]
  },
  {
   "cell_type": "code",
   "execution_count": 89,
   "metadata": {},
   "outputs": [
    {
     "data": {
      "text/plain": [
       "(246,)"
      ]
     },
     "execution_count": 89,
     "metadata": {},
     "output_type": "execute_result"
    }
   ],
   "source": [
    "data=data.reshape([-1,])\n",
    "data.shape"
   ]
  },
  {
   "cell_type": "code",
   "execution_count": 84,
   "metadata": {},
   "outputs": [
    {
     "data": {
      "text/plain": [
       "array([[283.2 ],\n",
       "       [278.2 ],\n",
       "       [273.  ],\n",
       "       [275.  ],\n",
       "       [273.1 ],\n",
       "       [281.7 ],\n",
       "       [281.9 ],\n",
       "       [276.55],\n",
       "       [280.2 ],\n",
       "       [281.15],\n",
       "       [279.7 ],\n",
       "       [282.  ],\n",
       "       [276.4 ],\n",
       "       [278.  ],\n",
       "       [283.3 ],\n",
       "       [291.4 ],\n",
       "       [285.8 ],\n",
       "       [280.5 ],\n",
       "       [279.5 ],\n",
       "       [277.9 ],\n",
       "       [280.95],\n",
       "       [277.55],\n",
       "       [273.5 ],\n",
       "       [272.2 ],\n",
       "       [275.5 ],\n",
       "       [277.3 ],\n",
       "       [275.9 ],\n",
       "       [278.5 ],\n",
       "       [284.1 ],\n",
       "       [278.  ],\n",
       "       [282.25],\n",
       "       [292.45],\n",
       "       [301.9 ],\n",
       "       [300.  ],\n",
       "       [300.  ],\n",
       "       [302.  ],\n",
       "       [304.  ],\n",
       "       [312.9 ],\n",
       "       [311.45],\n",
       "       [312.  ],\n",
       "       [316.1 ],\n",
       "       [315.  ],\n",
       "       [317.5 ],\n",
       "       [311.3 ],\n",
       "       [313.  ],\n",
       "       [310.75],\n",
       "       [307.  ],\n",
       "       [305.05],\n",
       "       [304.95],\n",
       "       [302.95],\n",
       "       [302.5 ],\n",
       "       [309.  ],\n",
       "       [312.  ],\n",
       "       [309.4 ],\n",
       "       [308.65],\n",
       "       [310.  ],\n",
       "       [311.75],\n",
       "       [311.6 ],\n",
       "       [309.1 ],\n",
       "       [310.25],\n",
       "       [346.  ],\n",
       "       [342.8 ],\n",
       "       [337.25],\n",
       "       [334.3 ],\n",
       "       [338.  ],\n",
       "       [341.  ],\n",
       "       [335.  ],\n",
       "       [328.4 ],\n",
       "       [332.  ],\n",
       "       [339.95],\n",
       "       [335.  ],\n",
       "       [292.65],\n",
       "       [287.8 ],\n",
       "       [294.  ],\n",
       "       [291.5 ],\n",
       "       [290.  ],\n",
       "       [295.  ],\n",
       "       [292.  ],\n",
       "       [294.7 ],\n",
       "       [294.3 ],\n",
       "       [289.5 ],\n",
       "       [285.3 ],\n",
       "       [289.8 ],\n",
       "       [285.  ],\n",
       "       [280.4 ],\n",
       "       [281.6 ],\n",
       "       [280.1 ],\n",
       "       [274.  ],\n",
       "       [272.65],\n",
       "       [271.  ],\n",
       "       [274.4 ],\n",
       "       [272.  ],\n",
       "       [281.85],\n",
       "       [279.25],\n",
       "       [282.35],\n",
       "       [282.  ],\n",
       "       [283.5 ],\n",
       "       [282.  ],\n",
       "       [282.1 ],\n",
       "       [282.35],\n",
       "       [281.15],\n",
       "       [283.  ],\n",
       "       [282.2 ],\n",
       "       [283.45],\n",
       "       [282.65],\n",
       "       [280.5 ],\n",
       "       [277.  ],\n",
       "       [271.15],\n",
       "       [272.4 ],\n",
       "       [275.5 ],\n",
       "       [277.4 ],\n",
       "       [272.3 ],\n",
       "       [272.  ],\n",
       "       [271.  ],\n",
       "       [268.  ],\n",
       "       [269.4 ],\n",
       "       [272.  ],\n",
       "       [269.5 ],\n",
       "       [268.5 ],\n",
       "       [263.3 ],\n",
       "       [265.1 ],\n",
       "       [260.4 ],\n",
       "       [262.8 ],\n",
       "       [262.5 ],\n",
       "       [264.1 ],\n",
       "       [267.4 ],\n",
       "       [265.8 ],\n",
       "       [268.  ],\n",
       "       [267.1 ],\n",
       "       [266.5 ],\n",
       "       [265.55],\n",
       "       [266.25],\n",
       "       [266.  ],\n",
       "       [268.  ],\n",
       "       [268.  ],\n",
       "       [271.  ],\n",
       "       [270.  ],\n",
       "       [268.45],\n",
       "       [268.4 ],\n",
       "       [270.8 ],\n",
       "       [270.6 ],\n",
       "       [269.  ],\n",
       "       [266.05],\n",
       "       [267.  ],\n",
       "       [269.7 ],\n",
       "       [267.  ],\n",
       "       [266.25],\n",
       "       [265.7 ],\n",
       "       [265.35],\n",
       "       [266.4 ],\n",
       "       [260.55],\n",
       "       [263.  ],\n",
       "       [258.5 ],\n",
       "       [257.  ],\n",
       "       [254.7 ],\n",
       "       [256.5 ],\n",
       "       [258.6 ],\n",
       "       [259.5 ],\n",
       "       [256.  ],\n",
       "       [258.35],\n",
       "       [258.5 ],\n",
       "       [260.  ],\n",
       "       [259.1 ],\n",
       "       [258.  ],\n",
       "       [257.9 ],\n",
       "       [256.95],\n",
       "       [256.  ],\n",
       "       [255.  ],\n",
       "       [253.25],\n",
       "       [250.  ],\n",
       "       [253.75],\n",
       "       [264.65],\n",
       "       [264.5 ],\n",
       "       [259.6 ],\n",
       "       [260.9 ],\n",
       "       [266.  ],\n",
       "       [265.5 ],\n",
       "       [263.4 ],\n",
       "       [264.7 ],\n",
       "       [265.9 ],\n",
       "       [263.5 ],\n",
       "       [263.25],\n",
       "       [264.2 ],\n",
       "       [263.4 ],\n",
       "       [262.5 ],\n",
       "       [263.25],\n",
       "       [262.6 ],\n",
       "       [261.3 ],\n",
       "       [260.95],\n",
       "       [261.9 ],\n",
       "       [264.  ],\n",
       "       [265.5 ],\n",
       "       [273.45],\n",
       "       [269.5 ],\n",
       "       [270.25],\n",
       "       [268.  ],\n",
       "       [268.2 ],\n",
       "       [262.  ],\n",
       "       [268.  ],\n",
       "       [276.  ],\n",
       "       [275.  ],\n",
       "       [274.  ],\n",
       "       [276.65],\n",
       "       [281.  ],\n",
       "       [281.15],\n",
       "       [275.  ],\n",
       "       [273.9 ],\n",
       "       [272.  ],\n",
       "       [274.4 ],\n",
       "       [273.55],\n",
       "       [269.95],\n",
       "       [278.  ],\n",
       "       [275.7 ],\n",
       "       [271.  ],\n",
       "       [272.45],\n",
       "       [270.  ],\n",
       "       [266.5 ],\n",
       "       [269.85],\n",
       "       [266.  ],\n",
       "       [264.  ],\n",
       "       [264.  ],\n",
       "       [267.2 ],\n",
       "       [267.45],\n",
       "       [268.55],\n",
       "       [268.  ],\n",
       "       [265.  ],\n",
       "       [264.2 ],\n",
       "       [263.3 ],\n",
       "       [261.05],\n",
       "       [256.5 ],\n",
       "       [260.3 ],\n",
       "       [259.  ],\n",
       "       [264.  ],\n",
       "       [269.65],\n",
       "       [268.05],\n",
       "       [267.  ],\n",
       "       [266.4 ],\n",
       "       [260.55],\n",
       "       [258.15],\n",
       "       [260.05],\n",
       "       [260.  ],\n",
       "       [256.  ],\n",
       "       [252.9 ],\n",
       "       [258.8 ],\n",
       "       [258.  ]])"
      ]
     },
     "execution_count": 84,
     "metadata": {},
     "output_type": "execute_result"
    }
   ],
   "source": [
    "target"
   ]
  },
  {
   "cell_type": "code",
   "execution_count": 14,
   "metadata": {},
   "outputs": [
    {
     "data": {
      "image/png": "[encoded data removed]",
      "text/plain": [
       "<matplotlib.figure.Figure at 0x113578be0>"
      ]
     },
     "metadata": {},
     "output_type": "display_data"
    }
   ],
   "source": [
    "import matplotlib.pyplot as plt\n",
    "plt.plot(stock_data[[\"Open Price\"]])\n",
    "plt.plot(stock_data[[\"High Price\"]])\n",
    "plt.show()"
   ]
  },
  {
   "cell_type": "code",
   "execution_count": 15,
   "metadata": {
    "collapsed": true
   },
   "outputs": [],
   "source": [
    "import tensorflow as tf"
   ]
  },
  {
   "cell_type": "markdown",
   "metadata": {},
   "source": [
    "## Building LSTM"
   ]
  },
  {
   "cell_type": "markdown",
   "metadata": {},
   "source": [
    "### Input"
   ]
  },
  {
   "cell_type": "code",
   "execution_count": 186,
   "metadata": {
    "collapsed": true
   },
   "outputs": [],
   "source": [
    "def get_inputs(batch_size,num_steps):\n",
    "    inputs = tf.placeholder(tf.float32,[batch_size,num_steps,1],name=\"input\")\n",
    "    targets = tf.placeholder(tf.float32,[batch_size,num_steps],name=\"target\")\n",
    "    learning_rate = tf.placeholder(tf.float32,name=\"learning_rate\")\n",
    "    return inputs,targets,learning_rate"
   ]
  },
  {
   "cell_type": "code",
   "execution_count": 219,
   "metadata": {
    "collapsed": true
   },
   "outputs": [],
   "source": [
    "def get_init_cell(batch_size,rnn_size,num_layer):\n",
    "    keep_prob = 0.5\n",
    "    def build_cell(lstm_size,keep_prob):\n",
    "        lstm = tf.contrib.rnn.BasicLSTMCell(rnn_size)\n",
    "    \n",
    "    # Add dropout to the cell outputs\n",
    "        drop = tf.contrib.rnn.DropoutWrapper(lstm ,output_keep_prob=keep_prob)\n",
    "        return drop\n",
    "    \n",
    "    # Stack up multiple LSTM layers, for deep learning\n",
    "    cell = tf.contrib.rnn.MultiRNNCell([build_cell(rnn_size,keep_prob) for _ in range(num_layer)])\n",
    "    initial_state = cell.zero_state(batch_size,tf.float32)\n",
    "    \n",
    "    return cell, initial_state"
   ]
  },
  {
   "cell_type": "code",
   "execution_count": 220,
   "metadata": {
    "collapsed": true
   },
   "outputs": [],
   "source": [
    "def build_output(lstm_output, in_size, out_size):\n",
    "    seq_output = lstm_output\n",
    "    x = tf.reshape(seq_output,[-1,in_size])\n",
    "    \n",
    "    \n",
    "    with tf.variable_scope(\"no_activation\"):\n",
    "        w = tf.Variable(tf.truncated_normal([in_size,out_size],stddev=0.1))\n",
    "        b = tf.Variable(tf.zeros(out_size))\n",
    "        \n",
    "    logits = tf.add(tf.matmul(x,w),b)\n",
    "    \n",
    "    out = logits\n",
    "    return out, logits"
   ]
  },
  {
   "cell_type": "code",
   "execution_count": 240,
   "metadata": {
    "collapsed": true
   },
   "outputs": [],
   "source": [
    "def build_loss(logits,targets,lstm_size):\n",
    "    y_reshaped = tf.reshape(targets,logits.get_shape())\n",
    "    print(logits.get_shape())\n",
    "    \n",
    "    loss = tf.losses.mean_squared_error(logits,y_reshaped)\n",
    "    return loss"
   ]
  },
  {
   "cell_type": "code",
   "execution_count": 241,
   "metadata": {},
   "outputs": [],
   "source": [
    "def build_optimizer(loss,learning_rate):\n",
    "    optimizer = tf.train.AdamOptimizer(learning_rate)\n",
    "    gradients = optimizer.compute_gradients(loss)\n",
    "    capped_gradients = [(tf.clip_by_value(grad,-1.,1.),var) for grad,var in gradients if grad is not None]\n",
    "    train_op = optimizer.apply_gradients(capped_gradients)"
   ]
  },
  {
   "cell_type": "code",
   "execution_count": 242,
   "metadata": {
    "collapsed": true
   },
   "outputs": [],
   "source": [
    "def build_rnn(cell,inputs):\n",
    "    # TODO: Implement Function\n",
    "    print(inputs.get_shape())\n",
    "    outputs,final_state = tf.nn.dynamic_rnn(cell,inputs,dtype=tf.float32)\n",
    "    final_state=tf.identity(final_state,name=\"final_state\")\n",
    "    return (outputs,final_state)"
   ]
  },
  {
   "cell_type": "code",
   "execution_count": null,
   "metadata": {
    "collapsed": true
   },
   "outputs": [],
   "source": []
  },
  {
   "cell_type": "code",
   "execution_count": 265,
   "metadata": {
    "collapsed": true
   },
   "outputs": [],
   "source": [
    "def get_batches(int_text,batch_size,seq_length):\n",
    "    \n",
    "    n_complete_batch = len(int_text)//(batch_size*seq_length)\n",
    "    content_full = n_complete_batch*(batch_size*seq_length)\n",
    "    reqired_content = np.array(int_text[:content_full])\n",
    "    reshaped_int = reqired_content.reshape([batch_size,-1])\n",
    "    x_y_final=[]\n",
    "    for n in range(0,reshaped_int.shape[1],seq_length):\n",
    "        x_batch = reshaped_int[:,n:n+seq_length]\n",
    "        x_batch_shape = x_batch.shape\n",
    "        x_batch = np.expand_dims(x_batch,0)\n",
    "        x_batch = x_batch.reshape((batch_size,seq_length,1))\n",
    "        y_batch_temp = reshaped_int[:,n+1:n+seq_length+1]\n",
    "        y_batch = np.zeros(x_batch_shape)\n",
    "        y_batch[:,:y_batch_temp.shape[1]] = y_batch_temp\n",
    "        x_y_final.append((x_batch,y_batch))\n",
    "\n",
    "\n",
    "    \n",
    "        \n",
    "    return x_y_final"
   ]
  },
  {
   "cell_type": "code",
   "execution_count": 266,
   "metadata": {
    "collapsed": true
   },
   "outputs": [],
   "source": [
    "num_epochs = 10\n",
    "batch_size = 2\n",
    "rnn_size=512\n",
    "seq_length = 3\n",
    "learning_rate = 0.001\n",
    "show_every_n_batches = 2"
   ]
  },
  {
   "cell_type": "markdown",
   "metadata": {},
   "source": [
    "from tensorflow.contrib import seq2seq\n",
    "\n",
    "train_graph = tf.Graph()\n",
    "with train_graph.as_default():\n",
    "    input_,targets,lr = get_inputs()\n",
    "    input_data_shape = tf.shape(input_)\n",
    "    print(input_.get_shape())\n",
    "    cell,initial_state = get_init_cell(input_data_shape[0],rnn_size)\n",
    "    logits,final_state = build_nn(cell,rnn_size,input_)\n",
    "    \n",
    "    \n",
    "    cost = seq2seq.sequence_loss(logits,targets,\n",
    "                                tf.ones([input_data_shape[0],input_data_shape[1]]))\n",
    "    \n",
    "    optimizer = tf.train.AdamOptimizer(lr)\n",
    "    \n",
    "    #Gradient Clipping\n",
    "    gradients = optimizer.compute_gradients(cost)\n",
    "    capped_gradients = [(tf.clip_by_value(grad,-1.,1.),var) for grad,var in gradients if grad is not None]\n",
    "    train_op = optimizer.apply_gradients(capped_gradients)"
   ]
  },
  {
   "cell_type": "code",
   "execution_count": 267,
   "metadata": {
    "collapsed": true
   },
   "outputs": [],
   "source": [
    "class CharRNN:\n",
    "    def __init__(self, batch_size=2,num_steps=3,lstm_size=128,sampling=False,num_layer=2):\n",
    "        if sampling == True:\n",
    "            batch_size,num_steps = 1,1\n",
    "        else :\n",
    "            batch_size, num_steps = batch_size,num_steps\n",
    "            \n",
    "        tf.reset_default_graph()\n",
    "        \n",
    "        \n",
    "        self.inputs,self.targets,self.learning_rate = get_inputs(batch_size,num_steps)\n",
    "        \n",
    "        #print(self.inputs.get_shape())\n",
    "        cell , self.initial_state = get_init_cell(batch_size=batch_size,rnn_size=lstm_size,num_layer=num_layer)\n",
    "        \n",
    "        #print(self.inputs.get_shape())\n",
    "        #print(self.initial_state.get_shape())\n",
    "        outputs, state = tf.nn.dynamic_rnn(cell,self.inputs,initial_state=self.initial_state)\n",
    "        self.final_state = state\n",
    "        \n",
    "        _,self.logits = build_output(outputs,lstm_size,1)\n",
    "        \n",
    "        \n",
    "        self.loss = build_loss(self.logits,self.targets,lstm_size)\n",
    "        self.optimizer = build_optimizer(self.loss,self.learning_rate)"
   ]
  },
  {
   "cell_type": "code",
   "execution_count": 274,
   "metadata": {},
   "outputs": [
    {
     "name": "stdout",
     "output_type": "stream",
     "text": [
      "(6, 1)\n",
      "dsd(2, 3, 1)\n",
      "<class 'tuple'>\n"
     ]
    },
    {
     "ename": "TypeError",
     "evalue": "Fetch argument None has invalid type <class 'NoneType'>",
     "output_type": "error",
     "traceback": [
      "\u001b[0;31m---------------------------------------------------------------------------\u001b[0m",
      "\u001b[0;31mTypeError\u001b[0m                                 Traceback (most recent call last)",
      "\u001b[0;32m<ipython-input-274-bd8b04bc81f6>\u001b[0m in \u001b[0;36m<module>\u001b[0;34m()\u001b[0m\n\u001b[1;32m     33\u001b[0m                                                  \u001b[0mmodel\u001b[0m\u001b[0;34m.\u001b[0m\u001b[0mfinal_state\u001b[0m\u001b[0;34m,\u001b[0m\u001b[0;34m\u001b[0m\u001b[0m\n\u001b[1;32m     34\u001b[0m                                                  model.optimizer], \n\u001b[0;32m---> 35\u001b[0;31m                                                  feed_dict=feed)\n\u001b[0m\u001b[1;32m     36\u001b[0m             \u001b[0;32mif\u001b[0m \u001b[0;34m(\u001b[0m\u001b[0mcounter\u001b[0m \u001b[0;34m%\u001b[0m \u001b[0mprint_every_n\u001b[0m \u001b[0;34m==\u001b[0m \u001b[0;36m0\u001b[0m\u001b[0;34m)\u001b[0m\u001b[0;34m:\u001b[0m\u001b[0;34m\u001b[0m\u001b[0m\n\u001b[1;32m     37\u001b[0m                 \u001b[0mend\u001b[0m \u001b[0;34m=\u001b[0m \u001b[0mtime\u001b[0m\u001b[0;34m.\u001b[0m\u001b[0mtime\u001b[0m\u001b[0;34m(\u001b[0m\u001b[0;34m)\u001b[0m\u001b[0;34m\u001b[0m\u001b[0m\n",
      "\u001b[0;32m~/anaconda3/lib/python3.6/site-packages/tensorflow/python/client/session.py\u001b[0m in \u001b[0;36mrun\u001b[0;34m(self, fetches, feed_dict, options, run_metadata)\u001b[0m\n\u001b[1;32m    776\u001b[0m     \u001b[0;32mtry\u001b[0m\u001b[0;34m:\u001b[0m\u001b[0;34m\u001b[0m\u001b[0m\n\u001b[1;32m    777\u001b[0m       result = self._run(None, fetches, feed_dict, options_ptr,\n\u001b[0;32m--> 778\u001b[0;31m                          run_metadata_ptr)\n\u001b[0m\u001b[1;32m    779\u001b[0m       \u001b[0;32mif\u001b[0m \u001b[0mrun_metadata\u001b[0m\u001b[0;34m:\u001b[0m\u001b[0;34m\u001b[0m\u001b[0m\n\u001b[1;32m    780\u001b[0m         \u001b[0mproto_data\u001b[0m \u001b[0;34m=\u001b[0m \u001b[0mtf_session\u001b[0m\u001b[0;34m.\u001b[0m\u001b[0mTF_GetBuffer\u001b[0m\u001b[0;34m(\u001b[0m\u001b[0mrun_metadata_ptr\u001b[0m\u001b[0;34m)\u001b[0m\u001b[0;34m\u001b[0m\u001b[0m\n",
      "\u001b[0;32m~/anaconda3/lib/python3.6/site-packages/tensorflow/python/client/session.py\u001b[0m in \u001b[0;36m_run\u001b[0;34m(self, handle, fetches, feed_dict, options, run_metadata)\u001b[0m\n\u001b[1;32m    967\u001b[0m \u001b[0;34m\u001b[0m\u001b[0m\n\u001b[1;32m    968\u001b[0m     \u001b[0;31m# Create a fetch handler to take care of the structure of fetches.\u001b[0m\u001b[0;34m\u001b[0m\u001b[0;34m\u001b[0m\u001b[0m\n\u001b[0;32m--> 969\u001b[0;31m     \u001b[0mfetch_handler\u001b[0m \u001b[0;34m=\u001b[0m \u001b[0m_FetchHandler\u001b[0m\u001b[0;34m(\u001b[0m\u001b[0mself\u001b[0m\u001b[0;34m.\u001b[0m\u001b[0m_graph\u001b[0m\u001b[0;34m,\u001b[0m \u001b[0mfetches\u001b[0m\u001b[0;34m,\u001b[0m \u001b[0mfeed_dict_string\u001b[0m\u001b[0;34m)\u001b[0m\u001b[0;34m\u001b[0m\u001b[0m\n\u001b[0m\u001b[1;32m    970\u001b[0m \u001b[0;34m\u001b[0m\u001b[0m\n\u001b[1;32m    971\u001b[0m     \u001b[0;31m# Run request and get response.\u001b[0m\u001b[0;34m\u001b[0m\u001b[0;34m\u001b[0m\u001b[0m\n",
      "\u001b[0;32m~/anaconda3/lib/python3.6/site-packages/tensorflow/python/client/session.py\u001b[0m in \u001b[0;36m__init__\u001b[0;34m(self, graph, fetches, feeds)\u001b[0m\n\u001b[1;32m    406\u001b[0m     \"\"\"\n\u001b[1;32m    407\u001b[0m     \u001b[0;32mwith\u001b[0m \u001b[0mgraph\u001b[0m\u001b[0;34m.\u001b[0m\u001b[0mas_default\u001b[0m\u001b[0;34m(\u001b[0m\u001b[0;34m)\u001b[0m\u001b[0;34m:\u001b[0m\u001b[0;34m\u001b[0m\u001b[0m\n\u001b[0;32m--> 408\u001b[0;31m       \u001b[0mself\u001b[0m\u001b[0;34m.\u001b[0m\u001b[0m_fetch_mapper\u001b[0m \u001b[0;34m=\u001b[0m \u001b[0m_FetchMapper\u001b[0m\u001b[0;34m.\u001b[0m\u001b[0mfor_fetch\u001b[0m\u001b[0;34m(\u001b[0m\u001b[0mfetches\u001b[0m\u001b[0;34m)\u001b[0m\u001b[0;34m\u001b[0m\u001b[0m\n\u001b[0m\u001b[1;32m    409\u001b[0m     \u001b[0mself\u001b[0m\u001b[0;34m.\u001b[0m\u001b[0m_fetches\u001b[0m \u001b[0;34m=\u001b[0m \u001b[0;34m[\u001b[0m\u001b[0;34m]\u001b[0m\u001b[0;34m\u001b[0m\u001b[0m\n\u001b[1;32m    410\u001b[0m     \u001b[0mself\u001b[0m\u001b[0;34m.\u001b[0m\u001b[0m_targets\u001b[0m \u001b[0;34m=\u001b[0m \u001b[0;34m[\u001b[0m\u001b[0;34m]\u001b[0m\u001b[0;34m\u001b[0m\u001b[0m\n",
      "\u001b[0;32m~/anaconda3/lib/python3.6/site-packages/tensorflow/python/client/session.py\u001b[0m in \u001b[0;36mfor_fetch\u001b[0;34m(fetch)\u001b[0m\n\u001b[1;32m    228\u001b[0m     \u001b[0;32melif\u001b[0m \u001b[0misinstance\u001b[0m\u001b[0;34m(\u001b[0m\u001b[0mfetch\u001b[0m\u001b[0;34m,\u001b[0m \u001b[0;34m(\u001b[0m\u001b[0mlist\u001b[0m\u001b[0;34m,\u001b[0m \u001b[0mtuple\u001b[0m\u001b[0;34m)\u001b[0m\u001b[0;34m)\u001b[0m\u001b[0;34m:\u001b[0m\u001b[0;34m\u001b[0m\u001b[0m\n\u001b[1;32m    229\u001b[0m       \u001b[0;31m# NOTE(touts): This is also the code path for namedtuples.\u001b[0m\u001b[0;34m\u001b[0m\u001b[0;34m\u001b[0m\u001b[0m\n\u001b[0;32m--> 230\u001b[0;31m       \u001b[0;32mreturn\u001b[0m \u001b[0m_ListFetchMapper\u001b[0m\u001b[0;34m(\u001b[0m\u001b[0mfetch\u001b[0m\u001b[0;34m)\u001b[0m\u001b[0;34m\u001b[0m\u001b[0m\n\u001b[0m\u001b[1;32m    231\u001b[0m     \u001b[0;32melif\u001b[0m \u001b[0misinstance\u001b[0m\u001b[0;34m(\u001b[0m\u001b[0mfetch\u001b[0m\u001b[0;34m,\u001b[0m \u001b[0mdict\u001b[0m\u001b[0;34m)\u001b[0m\u001b[0;34m:\u001b[0m\u001b[0;34m\u001b[0m\u001b[0m\n\u001b[1;32m    232\u001b[0m       \u001b[0;32mreturn\u001b[0m \u001b[0m_DictFetchMapper\u001b[0m\u001b[0;34m(\u001b[0m\u001b[0mfetch\u001b[0m\u001b[0;34m)\u001b[0m\u001b[0;34m\u001b[0m\u001b[0m\n",
      "\u001b[0;32m~/anaconda3/lib/python3.6/site-packages/tensorflow/python/client/session.py\u001b[0m in \u001b[0;36m__init__\u001b[0;34m(self, fetches)\u001b[0m\n\u001b[1;32m    335\u001b[0m     \"\"\"\n\u001b[1;32m    336\u001b[0m     \u001b[0mself\u001b[0m\u001b[0;34m.\u001b[0m\u001b[0m_fetch_type\u001b[0m \u001b[0;34m=\u001b[0m \u001b[0mtype\u001b[0m\u001b[0;34m(\u001b[0m\u001b[0mfetches\u001b[0m\u001b[0;34m)\u001b[0m\u001b[0;34m\u001b[0m\u001b[0m\n\u001b[0;32m--> 337\u001b[0;31m     \u001b[0mself\u001b[0m\u001b[0;34m.\u001b[0m\u001b[0m_mappers\u001b[0m \u001b[0;34m=\u001b[0m \u001b[0;34m[\u001b[0m\u001b[0m_FetchMapper\u001b[0m\u001b[0;34m.\u001b[0m\u001b[0mfor_fetch\u001b[0m\u001b[0;34m(\u001b[0m\u001b[0mfetch\u001b[0m\u001b[0;34m)\u001b[0m \u001b[0;32mfor\u001b[0m \u001b[0mfetch\u001b[0m \u001b[0;32min\u001b[0m \u001b[0mfetches\u001b[0m\u001b[0;34m]\u001b[0m\u001b[0;34m\u001b[0m\u001b[0m\n\u001b[0m\u001b[1;32m    338\u001b[0m     \u001b[0mself\u001b[0m\u001b[0;34m.\u001b[0m\u001b[0m_unique_fetches\u001b[0m\u001b[0;34m,\u001b[0m \u001b[0mself\u001b[0m\u001b[0;34m.\u001b[0m\u001b[0m_value_indices\u001b[0m \u001b[0;34m=\u001b[0m \u001b[0m_uniquify_fetches\u001b[0m\u001b[0;34m(\u001b[0m\u001b[0mself\u001b[0m\u001b[0;34m.\u001b[0m\u001b[0m_mappers\u001b[0m\u001b[0;34m)\u001b[0m\u001b[0;34m\u001b[0m\u001b[0m\n\u001b[1;32m    339\u001b[0m \u001b[0;34m\u001b[0m\u001b[0m\n",
      "\u001b[0;32m~/anaconda3/lib/python3.6/site-packages/tensorflow/python/client/session.py\u001b[0m in \u001b[0;36m<listcomp>\u001b[0;34m(.0)\u001b[0m\n\u001b[1;32m    335\u001b[0m     \"\"\"\n\u001b[1;32m    336\u001b[0m     \u001b[0mself\u001b[0m\u001b[0;34m.\u001b[0m\u001b[0m_fetch_type\u001b[0m \u001b[0;34m=\u001b[0m \u001b[0mtype\u001b[0m\u001b[0;34m(\u001b[0m\u001b[0mfetches\u001b[0m\u001b[0;34m)\u001b[0m\u001b[0;34m\u001b[0m\u001b[0m\n\u001b[0;32m--> 337\u001b[0;31m     \u001b[0mself\u001b[0m\u001b[0;34m.\u001b[0m\u001b[0m_mappers\u001b[0m \u001b[0;34m=\u001b[0m \u001b[0;34m[\u001b[0m\u001b[0m_FetchMapper\u001b[0m\u001b[0;34m.\u001b[0m\u001b[0mfor_fetch\u001b[0m\u001b[0;34m(\u001b[0m\u001b[0mfetch\u001b[0m\u001b[0;34m)\u001b[0m \u001b[0;32mfor\u001b[0m \u001b[0mfetch\u001b[0m \u001b[0;32min\u001b[0m \u001b[0mfetches\u001b[0m\u001b[0;34m]\u001b[0m\u001b[0;34m\u001b[0m\u001b[0m\n\u001b[0m\u001b[1;32m    338\u001b[0m     \u001b[0mself\u001b[0m\u001b[0;34m.\u001b[0m\u001b[0m_unique_fetches\u001b[0m\u001b[0;34m,\u001b[0m \u001b[0mself\u001b[0m\u001b[0;34m.\u001b[0m\u001b[0m_value_indices\u001b[0m \u001b[0;34m=\u001b[0m \u001b[0m_uniquify_fetches\u001b[0m\u001b[0;34m(\u001b[0m\u001b[0mself\u001b[0m\u001b[0;34m.\u001b[0m\u001b[0m_mappers\u001b[0m\u001b[0;34m)\u001b[0m\u001b[0;34m\u001b[0m\u001b[0m\n\u001b[1;32m    339\u001b[0m \u001b[0;34m\u001b[0m\u001b[0m\n",
      "\u001b[0;32m~/anaconda3/lib/python3.6/site-packages/tensorflow/python/client/session.py\u001b[0m in \u001b[0;36mfor_fetch\u001b[0;34m(fetch)\u001b[0m\n\u001b[1;32m    225\u001b[0m     \u001b[0;32mif\u001b[0m \u001b[0mfetch\u001b[0m \u001b[0;32mis\u001b[0m \u001b[0;32mNone\u001b[0m\u001b[0;34m:\u001b[0m\u001b[0;34m\u001b[0m\u001b[0m\n\u001b[1;32m    226\u001b[0m       raise TypeError('Fetch argument %r has invalid type %r' %\n\u001b[0;32m--> 227\u001b[0;31m                       (fetch, type(fetch)))\n\u001b[0m\u001b[1;32m    228\u001b[0m     \u001b[0;32melif\u001b[0m \u001b[0misinstance\u001b[0m\u001b[0;34m(\u001b[0m\u001b[0mfetch\u001b[0m\u001b[0;34m,\u001b[0m \u001b[0;34m(\u001b[0m\u001b[0mlist\u001b[0m\u001b[0;34m,\u001b[0m \u001b[0mtuple\u001b[0m\u001b[0;34m)\u001b[0m\u001b[0;34m)\u001b[0m\u001b[0;34m:\u001b[0m\u001b[0;34m\u001b[0m\u001b[0m\n\u001b[1;32m    229\u001b[0m       \u001b[0;31m# NOTE(touts): This is also the code path for namedtuples.\u001b[0m\u001b[0;34m\u001b[0m\u001b[0;34m\u001b[0m\u001b[0m\n",
      "\u001b[0;31mTypeError\u001b[0m: Fetch argument None has invalid type <class 'NoneType'>"
     ]
    }
   ],
   "source": [
    "batches = get_batches(data, 2, 3)\n",
    "epochs = 2\n",
    "# Print losses every N interations\n",
    "print_every_n = 50\n",
    "\n",
    "# Save every N iterations\n",
    "save_every_n = 200\n",
    "\n",
    "model = CharRNN(batch_size=2,num_steps=3,lstm_size=128,sampling=False,num_layer=2)\n",
    "\n",
    "saver = tf.train.Saver(max_to_keep=100)\n",
    "with tf.Session() as sess:\n",
    "    sess.run(tf.global_variables_initializer())\n",
    "    \n",
    "    # Use the line below to load a checkpoint and resume training\n",
    "    #saver.restore(sess, 'checkpoints/______.ckpt')\n",
    "    counter = 0\n",
    "    for e in range(epochs):\n",
    "        # Train network\n",
    "        new_state = sess.run(model.initial_state)\n",
    "        loss = 0\n",
    "        for batch_i,(x,y) in enumerate(batches) :\n",
    "            counter += 1\n",
    "            print(\"dsd\"+str(x.shape))\n",
    "            start = time.time()\n",
    "            feed = {model.inputs: x,\n",
    "                    model.targets: y,\n",
    "                    model.learning_rate:0.01,\n",
    "                    model.initial_state: new_state}\n",
    "            print(type(new_state))\n",
    "    \n",
    "            batch_loss, new_state, _ = sess.run([model.loss, \n",
    "                                                 model.final_state, \n",
    "                                                 model.optimizer], \n",
    "                                                 feed_dict=feed)\n",
    "            if (counter % print_every_n == 0):\n",
    "                end = time.time()\n",
    "                print('Epoch: {}/{}... '.format(e+1, epochs),\n",
    "                      'Training Step: {}... '.format(counter),\n",
    "                      'Training loss: {:.4f}... '.format(batch_loss),\n",
    "                      '{:.4f} sec/batch'.format((end-start)))\n",
    "        \n",
    "            if (counter % save_every_n == 0):\n",
    "                saver.save(sess, \"checkpoints/i{}_l{}.ckpt\".format(counter, lstm_size))\n",
    "    \n",
    "    #saver.save(sess, \"checkpoints/i{}_l{}.ckpt\".format(counter, lstm_size))\n"
   ]
  },
  {
   "cell_type": "code",
   "execution_count": 247,
   "metadata": {
    "collapsed": true
   },
   "outputs": [],
   "source": [
    "import time"
   ]
  },
  {
   "cell_type": "code",
   "execution_count": null,
   "metadata": {
    "collapsed": true
   },
   "outputs": [],
   "source": [
    "np.expand_dims"
   ]
  }
 ],
 "metadata": {
  "kernelspec": {
   "display_name": "Python [default]",
   "language": "python",
   "name": "python3"
  },
  "language_info": {
   "codemirror_mode": {
    "name": "ipython",
    "version": 3
   },
   "file_extension": ".py",
   "mimetype": "text/x-python",
   "name": "python",
   "nbconvert_exporter": "python",
   "pygments_lexer": "ipython3",
   "version": "3.6.4"
  }
 },
 "nbformat": 4,
 "nbformat_minor": 2
}
